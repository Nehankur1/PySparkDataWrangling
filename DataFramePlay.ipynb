{
  "nbformat": 4,
  "nbformat_minor": 0,
  "metadata": {
    "colab": {
      "provenance": [],
      "authorship_tag": "ABX9TyPX05mqcI/d+msR/Evj5+pY",
      "include_colab_link": true
    },
    "kernelspec": {
      "name": "python3",
      "display_name": "Python 3"
    },
    "language_info": {
      "name": "python"
    }
  },
  "cells": [
    {
      "cell_type": "markdown",
      "metadata": {
        "id": "view-in-github",
        "colab_type": "text"
      },
      "source": [
        "<a href=\"https://colab.research.google.com/github/Nehankur1/PySparkDataWrangling/blob/main/DataFramePlay.ipynb\" target=\"_parent\"><img src=\"https://colab.research.google.com/assets/colab-badge.svg\" alt=\"Open In Colab\"/></a>"
      ]
    },
    {
      "cell_type": "code",
      "execution_count": 1,
      "metadata": {
        "colab": {
          "base_uri": "https://localhost:8080/",
          "height": 584
        },
        "id": "P353oNKmfVrl",
        "outputId": "d783397c-234c-4488-8ed0-0478987b631e"
      },
      "outputs": [
        {
          "output_type": "stream",
          "name": "stdout",
          "text": [
            "\r0% [Working]\r            \rGet:1 https://cloud.r-project.org/bin/linux/ubuntu jammy-cran40/ InRelease [3,626 B]\n",
            "Get:2 https://developer.download.nvidia.com/compute/cuda/repos/ubuntu2204/x86_64  InRelease [1,581 B]\n",
            "Get:3 https://developer.download.nvidia.com/compute/cuda/repos/ubuntu2204/x86_64  Packages [664 kB]\n",
            "Hit:4 http://archive.ubuntu.com/ubuntu jammy InRelease\n",
            "Get:5 http://archive.ubuntu.com/ubuntu jammy-updates InRelease [119 kB]\n",
            "Hit:6 http://archive.ubuntu.com/ubuntu jammy-backports InRelease\n",
            "Get:7 http://archive.ubuntu.com/ubuntu jammy-updates/main amd64 Packages [1,667 kB]\n",
            "Get:8 http://archive.ubuntu.com/ubuntu jammy-updates/multiverse amd64 Packages [50.4 kB]\n",
            "Get:9 http://archive.ubuntu.com/ubuntu jammy-updates/restricted amd64 Packages [1,709 kB]\n",
            "Get:10 http://archive.ubuntu.com/ubuntu jammy-updates/universe amd64 Packages [1,322 kB]\n",
            "Get:11 http://security.ubuntu.com/ubuntu jammy-security InRelease [110 kB]\n",
            "Get:12 http://security.ubuntu.com/ubuntu jammy-security/main amd64 Packages [1,346 kB]\n",
            "Get:13 https://ppa.launchpadcontent.net/c2d4u.team/c2d4u4.0+/ubuntu jammy InRelease [18.1 kB]\n",
            "Get:14 https://ppa.launchpadcontent.net/deadsnakes/ppa/ubuntu jammy InRelease [18.1 kB]\n",
            "Hit:15 https://ppa.launchpadcontent.net/graphics-drivers/ppa/ubuntu jammy InRelease\n",
            "Hit:16 https://ppa.launchpadcontent.net/ubuntugis/ppa/ubuntu jammy InRelease\n",
            "Get:17 https://ppa.launchpadcontent.net/c2d4u.team/c2d4u4.0+/ubuntu jammy/main Sources [2,264 kB]\n",
            "Get:18 https://ppa.launchpadcontent.net/c2d4u.team/c2d4u4.0+/ubuntu jammy/main amd64 Packages [1,162 kB]\n",
            "Get:19 https://ppa.launchpadcontent.net/deadsnakes/ppa/ubuntu jammy/main amd64 Packages [28.2 kB]\n",
            "Fetched 10.5 MB in 26s (400 kB/s)\n",
            "Reading package lists... Done\n"
          ]
        },
        {
          "output_type": "execute_result",
          "data": {
            "text/plain": [
              "<pyspark.sql.session.SparkSession at 0x7b7d581c1f60>"
            ],
            "text/html": [
              "\n",
              "            <div>\n",
              "                <p><b>SparkSession - in-memory</b></p>\n",
              "                \n",
              "        <div>\n",
              "            <p><b>SparkContext</b></p>\n",
              "\n",
              "            <p><a href=\"http://9ae8a065a70b:4040\">Spark UI</a></p>\n",
              "\n",
              "            <dl>\n",
              "              <dt>Version</dt>\n",
              "                <dd><code>v3.1.1</code></dd>\n",
              "              <dt>Master</dt>\n",
              "                <dd><code>local[*]</code></dd>\n",
              "              <dt>AppName</dt>\n",
              "                <dd><code>pyspark-shell</code></dd>\n",
              "            </dl>\n",
              "        </div>\n",
              "        \n",
              "            </div>\n",
              "        "
            ]
          },
          "metadata": {},
          "execution_count": 1
        }
      ],
      "source": [
        "!apt-get update\n",
        "!apt-get install openjdk-8-jdk-headless -qq > /dev/null\n",
        "!wget -q http://archive.apache.org/dist/spark/spark-3.1.1/spark-3.1.1-bin-hadoop3.2.tgz\n",
        "!tar xf spark-3.1.1-bin-hadoop3.2.tgz\n",
        "!pip install -q findspark\n",
        "\n",
        "import os\n",
        "os.environ[\"JAVA_HOME\"] = \"/usr/lib/jvm/java-8-openjdk-amd64\"\n",
        "os.environ[\"SPARK_HOME\"] = \"/content/spark-3.1.1-bin-hadoop3.2\"\n",
        "\n",
        "import findspark\n",
        "findspark.init()\n",
        "\n",
        "import pyspark\n",
        "from pyspark.sql import SparkSession\n",
        "spark = SparkSession.builder.master(\"local[*]\").getOrCreate()\n",
        "spark"
      ]
    },
    {
      "cell_type": "code",
      "source": [
        "df = spark.read.csv(\"olist_customers_dataset.csv\", header=True)\n",
        "df.show()"
      ],
      "metadata": {
        "colab": {
          "base_uri": "https://localhost:8080/"
        },
        "id": "CAbF-fdufg4P",
        "outputId": "4e04ce46-557f-4f3e-9adc-685680c671e5"
      },
      "execution_count": 3,
      "outputs": [
        {
          "output_type": "stream",
          "name": "stdout",
          "text": [
            "+--------------------+--------------------+------------------------+--------------------+--------------+\n",
            "|         customer_id|  customer_unique_id|customer_zip_code_prefix|       customer_city|customer_state|\n",
            "+--------------------+--------------------+------------------------+--------------------+--------------+\n",
            "|06b8999e2fba1a1fb...|861eff4711a542e4b...|                   14409|              franca|            SP|\n",
            "|18955e83d337fd6b2...|290c77bc529b7ac93...|                   09790|sao bernardo do c...|            SP|\n",
            "|4e7b3e00288586ebd...|060e732b5b29e8181...|                   01151|           sao paulo|            SP|\n",
            "|b2b6027bc5c5109e5...|259dac757896d24d7...|                   08775|     mogi das cruzes|            SP|\n",
            "|4f2d8ab171c80ec83...|345ecd01c38d18a90...|                   13056|            campinas|            SP|\n",
            "|879864dab9bc30475...|4c93744516667ad3b...|                   89254|      jaragua do sul|            SC|\n",
            "|fd826e7cf63160e53...|addec96d2e059c80c...|                   04534|           sao paulo|            SP|\n",
            "|5e274e7a0c3809e14...|57b2a98a409812fe9...|                   35182|             timoteo|            MG|\n",
            "|5adf08e34b2e99398...|1175e95fb47ddff9d...|                   81560|            curitiba|            PR|\n",
            "|4b7139f34592b3a31...|9afe194fb833f79e3...|                   30575|      belo horizonte|            MG|\n",
            "|9fb35e4ed6f0a14a4...|2a7745e1ed516b289...|                   39400|       montes claros|            MG|\n",
            "|5aa9e4fdd4dfd2095...|2a46fb94aef5cbeeb...|                   20231|      rio de janeiro|            RJ|\n",
            "|b2d1536598b73a9ab...|918dc87cd72cd9f6e...|                   18682|    lencois paulista|            SP|\n",
            "|eabebad39a88bb6f5...|295c05e81917928d7...|                   05704|           sao paulo|            SP|\n",
            "|1f1c7bf1c9b041b29...|3151a81801c838636...|                   95110|       caxias do sul|            RS|\n",
            "|206f3129c0e4d7d0b...|21f748a16f4e1688a...|                   13412|          piracicaba|            SP|\n",
            "|a7c125a0a07b75146...|5c2991dbd08bbf3cf...|                   22750|      rio de janeiro|            RJ|\n",
            "|c5c61596a3b6bd0ce...|b6e99561fe6f34a55...|                   07124|           guarulhos|            SP|\n",
            "|9b8ce803689b3562d...|7f3a72e8f988c6e73...|                   05416|           sao paulo|            SP|\n",
            "|49d0ea0986edde72d...|3e6fd6b2f0d499456...|                   68485|              pacaja|            PA|\n",
            "+--------------------+--------------------+------------------------+--------------------+--------------+\n",
            "only showing top 20 rows\n",
            "\n"
          ]
        }
      ]
    },
    {
      "cell_type": "code",
      "source": [
        "df.dtypes"
      ],
      "metadata": {
        "colab": {
          "base_uri": "https://localhost:8080/"
        },
        "id": "GpuuuqBOgOye",
        "outputId": "2564a52b-3db9-49c0-8b44-e27d3fbb7bfd"
      },
      "execution_count": 4,
      "outputs": [
        {
          "output_type": "execute_result",
          "data": {
            "text/plain": [
              "[('customer_id', 'string'),\n",
              " ('customer_unique_id', 'string'),\n",
              " ('customer_zip_code_prefix', 'string'),\n",
              " ('customer_city', 'string'),\n",
              " ('customer_state', 'string')]"
            ]
          },
          "metadata": {},
          "execution_count": 4
        }
      ]
    },
    {
      "cell_type": "code",
      "source": [
        "from pyspark.sql.types import *\n",
        "schema = StructType([\n",
        "    StructField('customer_id', StringType()),\n",
        "    StructField('customer_unique_id', StringType()),\n",
        "    StructField('customer_zip_code_prefix', IntegerType()),\n",
        "    StructField('customer_city', StringType()),\n",
        "    StructField('customer_state', StringType())\n",
        "])\n",
        "\n",
        "df2 = spark.read.csv(\"olist_customers_dataset.csv\", header=True, schema=schema)\n",
        "df2.show()"
      ],
      "metadata": {
        "colab": {
          "base_uri": "https://localhost:8080/"
        },
        "id": "ULSvHzeFgUcB",
        "outputId": "97ea0cb7-051e-4071-d20d-3e62de9a9ad8"
      },
      "execution_count": 9,
      "outputs": [
        {
          "output_type": "stream",
          "name": "stdout",
          "text": [
            "+--------------------+--------------------+------------------------+--------------------+--------------+\n",
            "|         customer_id|  customer_unique_id|customer_zip_code_prefix|       customer_city|customer_state|\n",
            "+--------------------+--------------------+------------------------+--------------------+--------------+\n",
            "|06b8999e2fba1a1fb...|861eff4711a542e4b...|                   14409|              franca|            SP|\n",
            "|18955e83d337fd6b2...|290c77bc529b7ac93...|                    9790|sao bernardo do c...|            SP|\n",
            "|4e7b3e00288586ebd...|060e732b5b29e8181...|                    1151|           sao paulo|            SP|\n",
            "|b2b6027bc5c5109e5...|259dac757896d24d7...|                    8775|     mogi das cruzes|            SP|\n",
            "|4f2d8ab171c80ec83...|345ecd01c38d18a90...|                   13056|            campinas|            SP|\n",
            "|879864dab9bc30475...|4c93744516667ad3b...|                   89254|      jaragua do sul|            SC|\n",
            "|fd826e7cf63160e53...|addec96d2e059c80c...|                    4534|           sao paulo|            SP|\n",
            "|5e274e7a0c3809e14...|57b2a98a409812fe9...|                   35182|             timoteo|            MG|\n",
            "|5adf08e34b2e99398...|1175e95fb47ddff9d...|                   81560|            curitiba|            PR|\n",
            "|4b7139f34592b3a31...|9afe194fb833f79e3...|                   30575|      belo horizonte|            MG|\n",
            "|9fb35e4ed6f0a14a4...|2a7745e1ed516b289...|                   39400|       montes claros|            MG|\n",
            "|5aa9e4fdd4dfd2095...|2a46fb94aef5cbeeb...|                   20231|      rio de janeiro|            RJ|\n",
            "|b2d1536598b73a9ab...|918dc87cd72cd9f6e...|                   18682|    lencois paulista|            SP|\n",
            "|eabebad39a88bb6f5...|295c05e81917928d7...|                    5704|           sao paulo|            SP|\n",
            "|1f1c7bf1c9b041b29...|3151a81801c838636...|                   95110|       caxias do sul|            RS|\n",
            "|206f3129c0e4d7d0b...|21f748a16f4e1688a...|                   13412|          piracicaba|            SP|\n",
            "|a7c125a0a07b75146...|5c2991dbd08bbf3cf...|                   22750|      rio de janeiro|            RJ|\n",
            "|c5c61596a3b6bd0ce...|b6e99561fe6f34a55...|                    7124|           guarulhos|            SP|\n",
            "|9b8ce803689b3562d...|7f3a72e8f988c6e73...|                    5416|           sao paulo|            SP|\n",
            "|49d0ea0986edde72d...|3e6fd6b2f0d499456...|                   68485|              pacaja|            PA|\n",
            "+--------------------+--------------------+------------------------+--------------------+--------------+\n",
            "only showing top 20 rows\n",
            "\n"
          ]
        }
      ]
    },
    {
      "cell_type": "code",
      "source": [
        "df2.dtypes"
      ],
      "metadata": {
        "colab": {
          "base_uri": "https://localhost:8080/"
        },
        "id": "wa1LbTrBh0fT",
        "outputId": "959e9047-4f2b-403b-a7cd-b88ee7c2a5af"
      },
      "execution_count": 10,
      "outputs": [
        {
          "output_type": "execute_result",
          "data": {
            "text/plain": [
              "[('customer_id', 'string'),\n",
              " ('customer_unique_id', 'string'),\n",
              " ('customer_zip_code_prefix', 'int'),\n",
              " ('customer_city', 'string'),\n",
              " ('customer_state', 'string')]"
            ]
          },
          "metadata": {},
          "execution_count": 10
        }
      ]
    },
    {
      "cell_type": "code",
      "source": [
        "df2.head(5)"
      ],
      "metadata": {
        "colab": {
          "base_uri": "https://localhost:8080/"
        },
        "id": "oeqoJhB0iUVD",
        "outputId": "24f46fac-c2e9-46a1-b291-85d4995e29ae"
      },
      "execution_count": 11,
      "outputs": [
        {
          "output_type": "execute_result",
          "data": {
            "text/plain": [
              "[Row(customer_id='06b8999e2fba1a1fbc88172c00ba8bc7', customer_unique_id='861eff4711a542e4b93843c6dd7febb0', customer_zip_code_prefix=14409, customer_city='franca', customer_state='SP'),\n",
              " Row(customer_id='18955e83d337fd6b2def6b18a428ac77', customer_unique_id='290c77bc529b7ac935b93aa66c333dc3', customer_zip_code_prefix=9790, customer_city='sao bernardo do campo', customer_state='SP'),\n",
              " Row(customer_id='4e7b3e00288586ebd08712fdd0374a03', customer_unique_id='060e732b5b29e8181a18229c7b0b2b5e', customer_zip_code_prefix=1151, customer_city='sao paulo', customer_state='SP'),\n",
              " Row(customer_id='b2b6027bc5c5109e529d4dc6358b12c3', customer_unique_id='259dac757896d24d7702b9acbbff3f3c', customer_zip_code_prefix=8775, customer_city='mogi das cruzes', customer_state='SP'),\n",
              " Row(customer_id='4f2d8ab171c80ec8364f7c12e35b23ad', customer_unique_id='345ecd01c38d18a9036ed96c73b8d066', customer_zip_code_prefix=13056, customer_city='campinas', customer_state='SP')]"
            ]
          },
          "metadata": {},
          "execution_count": 11
        }
      ]
    },
    {
      "cell_type": "code",
      "source": [
        "df2.first()"
      ],
      "metadata": {
        "colab": {
          "base_uri": "https://localhost:8080/"
        },
        "id": "tkEK7VvEiXZk",
        "outputId": "32b97a67-25a1-411a-e66e-c11e7239864c"
      },
      "execution_count": 12,
      "outputs": [
        {
          "output_type": "execute_result",
          "data": {
            "text/plain": [
              "Row(customer_id='06b8999e2fba1a1fbc88172c00ba8bc7', customer_unique_id='861eff4711a542e4b93843c6dd7febb0', customer_zip_code_prefix=14409, customer_city='franca', customer_state='SP')"
            ]
          },
          "metadata": {},
          "execution_count": 12
        }
      ]
    },
    {
      "cell_type": "code",
      "source": [
        "df2.describe().show()"
      ],
      "metadata": {
        "colab": {
          "base_uri": "https://localhost:8080/"
        },
        "id": "kNsNiZK6iZ5O",
        "outputId": "2520c759-7893-40f9-b059-ab7f69fb3034"
      },
      "execution_count": 14,
      "outputs": [
        {
          "output_type": "stream",
          "name": "stdout",
          "text": [
            "+-------+--------------------+--------------------+------------------------+-------------------+--------------+\n",
            "|summary|         customer_id|  customer_unique_id|customer_zip_code_prefix|      customer_city|customer_state|\n",
            "+-------+--------------------+--------------------+------------------------+-------------------+--------------+\n",
            "|  count|               99441|               99441|                   99441|              99441|         99441|\n",
            "|   mean|                null|                null|       35137.47458291851|               null|          null|\n",
            "| stddev|                null|                null|      29797.938996206158|               null|          null|\n",
            "|    min|00012a2ce6f8dcda2...|0000366f3b9a7992b...|                    1003|abadia dos dourados|            AC|\n",
            "|    max|ffffe8b65bbe3087b...|ffffd2657e2aad290...|                   99990|             zortea|            TO|\n",
            "+-------+--------------------+--------------------+------------------------+-------------------+--------------+\n",
            "\n"
          ]
        }
      ]
    },
    {
      "cell_type": "code",
      "source": [
        "df2.columns"
      ],
      "metadata": {
        "colab": {
          "base_uri": "https://localhost:8080/"
        },
        "id": "M3UTzf--ij5D",
        "outputId": "cdda7487-4be4-4622-a77a-41db44734d46"
      },
      "execution_count": 15,
      "outputs": [
        {
          "output_type": "execute_result",
          "data": {
            "text/plain": [
              "['customer_id',\n",
              " 'customer_unique_id',\n",
              " 'customer_zip_code_prefix',\n",
              " 'customer_city',\n",
              " 'customer_state']"
            ]
          },
          "metadata": {},
          "execution_count": 15
        }
      ]
    },
    {
      "cell_type": "code",
      "source": [
        "df2.count()"
      ],
      "metadata": {
        "colab": {
          "base_uri": "https://localhost:8080/"
        },
        "id": "2xVHYcT_inyh",
        "outputId": "9e7e1f53-03f4-4697-b054-7d4add90bd0b"
      },
      "execution_count": 18,
      "outputs": [
        {
          "output_type": "execute_result",
          "data": {
            "text/plain": [
              "99441"
            ]
          },
          "metadata": {},
          "execution_count": 18
        }
      ]
    },
    {
      "cell_type": "code",
      "source": [
        "df2.distinct().count()"
      ],
      "metadata": {
        "colab": {
          "base_uri": "https://localhost:8080/"
        },
        "id": "Xnkf0rMJiqaw",
        "outputId": "6ce658ee-b4f0-4025-d27c-02aa819cdb0e"
      },
      "execution_count": 23,
      "outputs": [
        {
          "output_type": "execute_result",
          "data": {
            "text/plain": [
              "99441"
            ]
          },
          "metadata": {},
          "execution_count": 23
        }
      ]
    },
    {
      "cell_type": "code",
      "source": [
        "df_dropped=df2.na.drop()\n",
        "df_dropped.show()"
      ],
      "metadata": {
        "colab": {
          "base_uri": "https://localhost:8080/"
        },
        "id": "ERGGbv_hjFbT",
        "outputId": "2f3686fa-3d5f-4885-8936-bc631327cbc0"
      },
      "execution_count": 24,
      "outputs": [
        {
          "output_type": "stream",
          "name": "stdout",
          "text": [
            "+--------------------+--------------------+------------------------+--------------------+--------------+\n",
            "|         customer_id|  customer_unique_id|customer_zip_code_prefix|       customer_city|customer_state|\n",
            "+--------------------+--------------------+------------------------+--------------------+--------------+\n",
            "|06b8999e2fba1a1fb...|861eff4711a542e4b...|                   14409|              franca|            SP|\n",
            "|18955e83d337fd6b2...|290c77bc529b7ac93...|                    9790|sao bernardo do c...|            SP|\n",
            "|4e7b3e00288586ebd...|060e732b5b29e8181...|                    1151|           sao paulo|            SP|\n",
            "|b2b6027bc5c5109e5...|259dac757896d24d7...|                    8775|     mogi das cruzes|            SP|\n",
            "|4f2d8ab171c80ec83...|345ecd01c38d18a90...|                   13056|            campinas|            SP|\n",
            "|879864dab9bc30475...|4c93744516667ad3b...|                   89254|      jaragua do sul|            SC|\n",
            "|fd826e7cf63160e53...|addec96d2e059c80c...|                    4534|           sao paulo|            SP|\n",
            "|5e274e7a0c3809e14...|57b2a98a409812fe9...|                   35182|             timoteo|            MG|\n",
            "|5adf08e34b2e99398...|1175e95fb47ddff9d...|                   81560|            curitiba|            PR|\n",
            "|4b7139f34592b3a31...|9afe194fb833f79e3...|                   30575|      belo horizonte|            MG|\n",
            "|9fb35e4ed6f0a14a4...|2a7745e1ed516b289...|                   39400|       montes claros|            MG|\n",
            "|5aa9e4fdd4dfd2095...|2a46fb94aef5cbeeb...|                   20231|      rio de janeiro|            RJ|\n",
            "|b2d1536598b73a9ab...|918dc87cd72cd9f6e...|                   18682|    lencois paulista|            SP|\n",
            "|eabebad39a88bb6f5...|295c05e81917928d7...|                    5704|           sao paulo|            SP|\n",
            "|1f1c7bf1c9b041b29...|3151a81801c838636...|                   95110|       caxias do sul|            RS|\n",
            "|206f3129c0e4d7d0b...|21f748a16f4e1688a...|                   13412|          piracicaba|            SP|\n",
            "|a7c125a0a07b75146...|5c2991dbd08bbf3cf...|                   22750|      rio de janeiro|            RJ|\n",
            "|c5c61596a3b6bd0ce...|b6e99561fe6f34a55...|                    7124|           guarulhos|            SP|\n",
            "|9b8ce803689b3562d...|7f3a72e8f988c6e73...|                    5416|           sao paulo|            SP|\n",
            "|49d0ea0986edde72d...|3e6fd6b2f0d499456...|                   68485|              pacaja|            PA|\n",
            "+--------------------+--------------------+------------------------+--------------------+--------------+\n",
            "only showing top 20 rows\n",
            "\n"
          ]
        }
      ]
    },
    {
      "cell_type": "code",
      "source": [
        "df_dropped.count()"
      ],
      "metadata": {
        "colab": {
          "base_uri": "https://localhost:8080/"
        },
        "id": "6g8qcpuNjVob",
        "outputId": "29cf35f3-f3a7-4038-cdda-b7fecc5900f0"
      },
      "execution_count": 25,
      "outputs": [
        {
          "output_type": "execute_result",
          "data": {
            "text/plain": [
              "99441"
            ]
          },
          "metadata": {},
          "execution_count": 25
        }
      ]
    },
    {
      "cell_type": "code",
      "source": [
        "df_filter = df2.filter(df2.customer_state=='SP')\n",
        "df_filter.show()"
      ],
      "metadata": {
        "colab": {
          "base_uri": "https://localhost:8080/"
        },
        "id": "s680rS2QkHPY",
        "outputId": "00d7f59c-b76b-431d-900a-40be491c263a"
      },
      "execution_count": 27,
      "outputs": [
        {
          "output_type": "stream",
          "name": "stdout",
          "text": [
            "+--------------------+--------------------+------------------------+--------------------+--------------+\n",
            "|         customer_id|  customer_unique_id|customer_zip_code_prefix|       customer_city|customer_state|\n",
            "+--------------------+--------------------+------------------------+--------------------+--------------+\n",
            "|06b8999e2fba1a1fb...|861eff4711a542e4b...|                   14409|              franca|            SP|\n",
            "|18955e83d337fd6b2...|290c77bc529b7ac93...|                    9790|sao bernardo do c...|            SP|\n",
            "|4e7b3e00288586ebd...|060e732b5b29e8181...|                    1151|           sao paulo|            SP|\n",
            "|b2b6027bc5c5109e5...|259dac757896d24d7...|                    8775|     mogi das cruzes|            SP|\n",
            "|4f2d8ab171c80ec83...|345ecd01c38d18a90...|                   13056|            campinas|            SP|\n",
            "|fd826e7cf63160e53...|addec96d2e059c80c...|                    4534|           sao paulo|            SP|\n",
            "|b2d1536598b73a9ab...|918dc87cd72cd9f6e...|                   18682|    lencois paulista|            SP|\n",
            "|eabebad39a88bb6f5...|295c05e81917928d7...|                    5704|           sao paulo|            SP|\n",
            "|206f3129c0e4d7d0b...|21f748a16f4e1688a...|                   13412|          piracicaba|            SP|\n",
            "|c5c61596a3b6bd0ce...|b6e99561fe6f34a55...|                    7124|           guarulhos|            SP|\n",
            "|9b8ce803689b3562d...|7f3a72e8f988c6e73...|                    5416|           sao paulo|            SP|\n",
            "|2938121a40a20953c...|482441ea6a06b1f72...|                    5713|           sao paulo|            SP|\n",
            "|cb721d7b4f271fd87...|a5844ba4bfc8d0cc6...|                    8225|           sao paulo|            SP|\n",
            "|f681356046d9fde60...|5f102dd37243f152a...|                    9121|         santo andre|            SP|\n",
            "|6e359a57a91f84095...|2e6a42a9b5cbb0da6...|                    4571|           sao paulo|            SP|\n",
            "|e3109970a3fe8021d...|a8654e2af5da6bb72...|                    5528|           sao paulo|            SP|\n",
            "|261cb4f92498ca05d...|424aca6872c5bab80...|                   12235| sao jose dos campos|            SP|\n",
            "|6f92779347724b67e...|bf4862777db128507...|                   18130|           sao roque|            SP|\n",
            "|df0aa5b8586495e0d...|85d234692f7bee8d6...|                   13175|              sumare|            SP|\n",
            "|41c8f4b5708697913...|fe3634ccefbcdb053...|                    7170|           guarulhos|            SP|\n",
            "+--------------------+--------------------+------------------------+--------------------+--------------+\n",
            "only showing top 20 rows\n",
            "\n"
          ]
        }
      ]
    },
    {
      "cell_type": "code",
      "source": [
        "df_filter = df2.filter(df2.customer_city.startswith('sao'))\n",
        "df_filter.show()"
      ],
      "metadata": {
        "colab": {
          "base_uri": "https://localhost:8080/"
        },
        "id": "sdsnExZwk_Z4",
        "outputId": "82823e73-382f-4da7-cfa3-d5114ef96466"
      },
      "execution_count": 29,
      "outputs": [
        {
          "output_type": "stream",
          "name": "stdout",
          "text": [
            "+--------------------+--------------------+------------------------+--------------------+--------------+\n",
            "|         customer_id|  customer_unique_id|customer_zip_code_prefix|       customer_city|customer_state|\n",
            "+--------------------+--------------------+------------------------+--------------------+--------------+\n",
            "|18955e83d337fd6b2...|290c77bc529b7ac93...|                    9790|sao bernardo do c...|            SP|\n",
            "|4e7b3e00288586ebd...|060e732b5b29e8181...|                    1151|           sao paulo|            SP|\n",
            "|fd826e7cf63160e53...|addec96d2e059c80c...|                    4534|           sao paulo|            SP|\n",
            "|eabebad39a88bb6f5...|295c05e81917928d7...|                    5704|           sao paulo|            SP|\n",
            "|9b8ce803689b3562d...|7f3a72e8f988c6e73...|                    5416|           sao paulo|            SP|\n",
            "|2938121a40a20953c...|482441ea6a06b1f72...|                    5713|           sao paulo|            SP|\n",
            "|cb721d7b4f271fd87...|a5844ba4bfc8d0cc6...|                    8225|           sao paulo|            SP|\n",
            "|6e359a57a91f84095...|2e6a42a9b5cbb0da6...|                    4571|           sao paulo|            SP|\n",
            "|e3109970a3fe8021d...|a8654e2af5da6bb72...|                    5528|           sao paulo|            SP|\n",
            "|261cb4f92498ca05d...|424aca6872c5bab80...|                   12235| sao jose dos campos|            SP|\n",
            "|6f92779347724b67e...|bf4862777db128507...|                   18130|           sao roque|            SP|\n",
            "|4c06b42fbf7b97ab1...|07d190f123147d9e8...|                   65075|            sao luis|            MA|\n",
            "|b6368ca0f56d4632f...|dd992305cba295d99...|                   88104|            sao jose|            SC|\n",
            "|a3b0fda37bae14cf7...|c9158d089637ab443...|                    5727|           sao paulo|            SP|\n",
            "|df85b96ba2ce3e49b...|8d46223c91cbeb93e...|                   83085|sao jose dos pinhais|            PR|\n",
            "|d3b6830d18c7de943...|27cf4b153010911a0...|                    5351|           sao paulo|            SP|\n",
            "|a9b0d1c26105279e1...|3d49f4455a3947c8d...|                    5017|           sao paulo|            SP|\n",
            "|03f846ad03437d864...|7677c213007e9a6ec...|                    2075|           sao paulo|            SP|\n",
            "|97e126f19a6f04b34...|d4397835ae287e492...|                   11310|         sao vicente|            SP|\n",
            "|b514422efcf14bef3...|b436a108536c1dabb...|                   24431|         sao goncalo|            RJ|\n",
            "+--------------------+--------------------+------------------------+--------------------+--------------+\n",
            "only showing top 20 rows\n",
            "\n"
          ]
        }
      ]
    },
    {
      "cell_type": "code",
      "source": [
        "df_filter = df2.filter((df2.customer_city.startswith('sao')) & (df2.customer_state=='SP'))\n",
        "df_filter.show()"
      ],
      "metadata": {
        "colab": {
          "base_uri": "https://localhost:8080/"
        },
        "id": "TyCwUXpHmICQ",
        "outputId": "d06c9855-498d-41d6-e14f-fa1b5478ef79"
      },
      "execution_count": 31,
      "outputs": [
        {
          "output_type": "stream",
          "name": "stdout",
          "text": [
            "+--------------------+--------------------+------------------------+--------------------+--------------+\n",
            "|         customer_id|  customer_unique_id|customer_zip_code_prefix|       customer_city|customer_state|\n",
            "+--------------------+--------------------+------------------------+--------------------+--------------+\n",
            "|18955e83d337fd6b2...|290c77bc529b7ac93...|                    9790|sao bernardo do c...|            SP|\n",
            "|4e7b3e00288586ebd...|060e732b5b29e8181...|                    1151|           sao paulo|            SP|\n",
            "|fd826e7cf63160e53...|addec96d2e059c80c...|                    4534|           sao paulo|            SP|\n",
            "|eabebad39a88bb6f5...|295c05e81917928d7...|                    5704|           sao paulo|            SP|\n",
            "|9b8ce803689b3562d...|7f3a72e8f988c6e73...|                    5416|           sao paulo|            SP|\n",
            "|2938121a40a20953c...|482441ea6a06b1f72...|                    5713|           sao paulo|            SP|\n",
            "|cb721d7b4f271fd87...|a5844ba4bfc8d0cc6...|                    8225|           sao paulo|            SP|\n",
            "|6e359a57a91f84095...|2e6a42a9b5cbb0da6...|                    4571|           sao paulo|            SP|\n",
            "|e3109970a3fe8021d...|a8654e2af5da6bb72...|                    5528|           sao paulo|            SP|\n",
            "|261cb4f92498ca05d...|424aca6872c5bab80...|                   12235| sao jose dos campos|            SP|\n",
            "|6f92779347724b67e...|bf4862777db128507...|                   18130|           sao roque|            SP|\n",
            "|a3b0fda37bae14cf7...|c9158d089637ab443...|                    5727|           sao paulo|            SP|\n",
            "|d3b6830d18c7de943...|27cf4b153010911a0...|                    5351|           sao paulo|            SP|\n",
            "|a9b0d1c26105279e1...|3d49f4455a3947c8d...|                    5017|           sao paulo|            SP|\n",
            "|03f846ad03437d864...|7677c213007e9a6ec...|                    2075|           sao paulo|            SP|\n",
            "|97e126f19a6f04b34...|d4397835ae287e492...|                   11310|         sao vicente|            SP|\n",
            "|0aae2862f8eac77f1...|cd076285a12f40041...|                    5890|           sao paulo|            SP|\n",
            "|6c9a5923526346cbc...|cf6d4152d758efc43...|                    3733|           sao paulo|            SP|\n",
            "|12d1b4294fef21016...|7556f182460418cf3...|                   11347|         sao vicente|            SP|\n",
            "|8264e3518163dd092...|67d21c8bea9d6017d...|                    5415|           sao paulo|            SP|\n",
            "+--------------------+--------------------+------------------------+--------------------+--------------+\n",
            "only showing top 20 rows\n",
            "\n"
          ]
        }
      ]
    },
    {
      "cell_type": "code",
      "source": [
        "df.registerTempTable(\"olist\")\n",
        "query1 = spark.sql('select distinct customer_city from olist')\n",
        "query1.show()"
      ],
      "metadata": {
        "colab": {
          "base_uri": "https://localhost:8080/"
        },
        "id": "Y-bCx8cPml7i",
        "outputId": "dbbbbce4-1c0a-4cad-e845-2e117b066c33"
      },
      "execution_count": 34,
      "outputs": [
        {
          "output_type": "stream",
          "name": "stdout",
          "text": [
            "+--------------------+\n",
            "|       customer_city|\n",
            "+--------------------+\n",
            "|            camacari|\n",
            "|           arapiraca|\n",
            "|           itaberaba|\n",
            "|           igrejinha|\n",
            "|  aguas de sao pedro|\n",
            "|            vermelho|\n",
            "|                pote|\n",
            "|jijoca de jericoa...|\n",
            "|            barracao|\n",
            "|                iepe|\n",
            "|divino das laranj...|\n",
            "|divino de sao lou...|\n",
            "|              bacaxa|\n",
            "|   redencao da serra|\n",
            "|       astolfo dutra|\n",
            "|            itanhaem|\n",
            "|             brusque|\n",
            "|           boa vista|\n",
            "|  cachoeira paulista|\n",
            "|            guaranta|\n",
            "+--------------------+\n",
            "only showing top 20 rows\n",
            "\n"
          ]
        }
      ]
    },
    {
      "cell_type": "code",
      "source": [
        "query2 = spark.sql('select concat(customer_city,\"-\",customer_state) as City_State from olist')\n",
        "query2.show()"
      ],
      "metadata": {
        "colab": {
          "base_uri": "https://localhost:8080/"
        },
        "id": "QS53VQrZnsgL",
        "outputId": "7312eb1e-d384-4014-c3ad-72d3367328b4"
      },
      "execution_count": 37,
      "outputs": [
        {
          "output_type": "stream",
          "name": "stdout",
          "text": [
            "+--------------------+\n",
            "|          City_State|\n",
            "+--------------------+\n",
            "|           franca-SP|\n",
            "|sao bernardo do c...|\n",
            "|        sao paulo-SP|\n",
            "|  mogi das cruzes-SP|\n",
            "|         campinas-SP|\n",
            "|   jaragua do sul-SC|\n",
            "|        sao paulo-SP|\n",
            "|          timoteo-MG|\n",
            "|         curitiba-PR|\n",
            "|   belo horizonte-MG|\n",
            "|    montes claros-MG|\n",
            "|   rio de janeiro-RJ|\n",
            "| lencois paulista-SP|\n",
            "|        sao paulo-SP|\n",
            "|    caxias do sul-RS|\n",
            "|       piracicaba-SP|\n",
            "|   rio de janeiro-RJ|\n",
            "|        guarulhos-SP|\n",
            "|        sao paulo-SP|\n",
            "|           pacaja-PA|\n",
            "+--------------------+\n",
            "only showing top 20 rows\n",
            "\n"
          ]
        }
      ]
    }
  ]
}