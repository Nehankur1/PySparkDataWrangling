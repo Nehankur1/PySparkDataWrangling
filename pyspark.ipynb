{
  "nbformat": 4,
  "nbformat_minor": 0,
  "metadata": {
    "colab": {
      "provenance": [],
      "authorship_tag": "ABX9TyMArJn5WFxylCI+WRsFgOo5",
      "include_colab_link": true
    },
    "kernelspec": {
      "name": "python3",
      "display_name": "Python 3"
    },
    "language_info": {
      "name": "python"
    }
  },
  "cells": [
    {
      "cell_type": "markdown",
      "metadata": {
        "id": "view-in-github",
        "colab_type": "text"
      },
      "source": [
        "<a href=\"https://colab.research.google.com/github/Nehankur1/PySparkDataWrangling/blob/main/pyspark.ipynb\" target=\"_parent\"><img src=\"https://colab.research.google.com/assets/colab-badge.svg\" alt=\"Open In Colab\"/></a>"
      ]
    },
    {
      "cell_type": "code",
      "execution_count": null,
      "metadata": {
        "colab": {
          "base_uri": "https://localhost:8080/",
          "height": 584
        },
        "id": "IJ7ORgdpJXy-",
        "outputId": "a36241e5-edd2-4f8d-ae7f-5c4948a11a4a"
      },
      "outputs": [
        {
          "output_type": "stream",
          "name": "stdout",
          "text": [
            "\r0% [Working]\r            \rGet:1 https://cloud.r-project.org/bin/linux/ubuntu jammy-cran40/ InRelease [3,626 B]\n",
            "\r0% [Waiting for headers] [Waiting for headers] [1 InRelease 0 B/3,626 B 0%] [Connecting to ppa.launc\r0% [Waiting for headers] [Waiting for headers] [Connecting to ppa.launchpadcontent.net (185.125.190.\r                                                                                                    \rGet:2 https://developer.download.nvidia.com/compute/cuda/repos/ubuntu2204/x86_64  InRelease [1,581 B]\n",
            "\r0% [Waiting for headers] [Waiting for headers] [Connecting to ppa.launchpadcontent.net (185.125.190.\r0% [Waiting for headers] [Waiting for headers] [Connecting to ppa.launchpadcontent.net (185.125.190.\r                                                                                                    \rHit:3 http://archive.ubuntu.com/ubuntu jammy InRelease\n",
            "\r0% [Waiting for headers] [Waiting for headers] [Connecting to ppa.launchpadcontent.net (185.125.190.\r                                                                                                    \rGet:4 http://security.ubuntu.com/ubuntu jammy-security InRelease [110 kB]\n",
            "Get:5 http://archive.ubuntu.com/ubuntu jammy-updates InRelease [119 kB]\n",
            "Get:6 https://developer.download.nvidia.com/compute/cuda/repos/ubuntu2204/x86_64  Packages [664 kB]\n",
            "Hit:7 http://archive.ubuntu.com/ubuntu jammy-backports InRelease\n",
            "Get:8 https://ppa.launchpadcontent.net/c2d4u.team/c2d4u4.0+/ubuntu jammy InRelease [18.1 kB]\n",
            "Get:9 http://security.ubuntu.com/ubuntu jammy-security/main amd64 Packages [1,346 kB]\n",
            "Get:10 https://ppa.launchpadcontent.net/deadsnakes/ppa/ubuntu jammy InRelease [18.1 kB]\n",
            "Get:11 http://archive.ubuntu.com/ubuntu jammy-updates/multiverse amd64 Packages [50.4 kB]\n",
            "Get:12 http://archive.ubuntu.com/ubuntu jammy-updates/universe amd64 Packages [1,322 kB]\n",
            "Hit:13 https://ppa.launchpadcontent.net/graphics-drivers/ppa/ubuntu jammy InRelease\n",
            "Hit:14 https://ppa.launchpadcontent.net/ubuntugis/ppa/ubuntu jammy InRelease\n",
            "Get:15 http://archive.ubuntu.com/ubuntu jammy-updates/restricted amd64 Packages [1,709 kB]\n",
            "Get:16 https://ppa.launchpadcontent.net/c2d4u.team/c2d4u4.0+/ubuntu jammy/main Sources [2,264 kB]\n",
            "Get:17 http://archive.ubuntu.com/ubuntu jammy-updates/main amd64 Packages [1,667 kB]\n",
            "Get:18 https://ppa.launchpadcontent.net/c2d4u.team/c2d4u4.0+/ubuntu jammy/main amd64 Packages [1,162 kB]\n",
            "Get:19 https://ppa.launchpadcontent.net/deadsnakes/ppa/ubuntu jammy/main amd64 Packages [28.2 kB]\n",
            "Fetched 10.5 MB in 2s (4,245 kB/s)\n",
            "Reading package lists... Done\n"
          ]
        },
        {
          "output_type": "execute_result",
          "data": {
            "text/plain": [
              "<pyspark.sql.session.SparkSession at 0x782dcf41a9e0>"
            ],
            "text/html": [
              "\n",
              "            <div>\n",
              "                <p><b>SparkSession - in-memory</b></p>\n",
              "                \n",
              "        <div>\n",
              "            <p><b>SparkContext</b></p>\n",
              "\n",
              "            <p><a href=\"http://61230c9e5387:4040\">Spark UI</a></p>\n",
              "\n",
              "            <dl>\n",
              "              <dt>Version</dt>\n",
              "                <dd><code>v3.1.1</code></dd>\n",
              "              <dt>Master</dt>\n",
              "                <dd><code>local[*]</code></dd>\n",
              "              <dt>AppName</dt>\n",
              "                <dd><code>pyspark-shell</code></dd>\n",
              "            </dl>\n",
              "        </div>\n",
              "        \n",
              "            </div>\n",
              "        "
            ]
          },
          "metadata": {},
          "execution_count": 7
        }
      ],
      "source": [
        "!apt-get update\n",
        "!apt-get install openjdk-8-jdk-headless -qq > /dev/null\n",
        "!wget -q http://archive.apache.org/dist/spark/spark-3.1.1/spark-3.1.1-bin-hadoop3.2.tgz\n",
        "!tar xf spark-3.1.1-bin-hadoop3.2.tgz\n",
        "!pip install -q findspark\n",
        "\n",
        "import os\n",
        "os.environ[\"JAVA_HOME\"] = \"/usr/lib/jvm/java-8-openjdk-amd64\"\n",
        "os.environ[\"SPARK_HOME\"] = \"/content/spark-3.1.1-bin-hadoop3.2\"\n",
        "\n",
        "import findspark\n",
        "findspark.init()\n",
        "\n",
        "import pyspark\n",
        "from pyspark.sql import SparkSession\n",
        "spark = SparkSession.builder.master(\"local[*]\").getOrCreate()\n",
        "spark"
      ]
    },
    {
      "cell_type": "code",
      "source": [
        "mydata = spark.read.format(\"csv\").option(\"header\",\"true\").load(\"UsGdpYear.csv\")"
      ],
      "metadata": {
        "id": "WC24OcUKJbIj"
      },
      "execution_count": null,
      "outputs": []
    },
    {
      "cell_type": "code",
      "source": [
        "mydata.show()"
      ],
      "metadata": {
        "colab": {
          "base_uri": "https://localhost:8080/"
        },
        "id": "87YqXuRCR-t2",
        "outputId": "ad1572b0-f389-4380-c1a9-3c32c5532740"
      },
      "execution_count": null,
      "outputs": [
        {
          "output_type": "stream",
          "name": "stdout",
          "text": [
            "+----+-------------+-------------+--------------+--------------+\n",
            "|date|level-current|level-chained|change-current|change-chained|\n",
            "+----+-------------+-------------+--------------+--------------+\n",
            "|1930|         92.2|        966.7|           -16|          -6.4|\n",
            "|1931|         77.4|        904.8|         -23.1|         -12.9|\n",
            "|1932|         59.5|        788.2|            -4|          -1.2|\n",
            "|1933|         57.2|        778.3|          16.9|          10.8|\n",
            "|1934|         66.8|        862.2|          11.1|           8.9|\n",
            "|1935|         74.3|          939|          14.3|          12.9|\n",
            "|1936|         84.9|       1060.5|           9.6|           5.1|\n",
            "|1937|           93|       1114.6|          -6.1|          -3.3|\n",
            "|1938|         87.4|       1077.7|             7|             8|\n",
            "|1939|         93.5|       1163.6|          10.1|           8.8|\n",
            "|1940|        102.9|       1266.1|          25.7|          17.7|\n",
            "|1941|        129.4|       1490.3|          28.3|          18.9|\n",
            "|1942|          166|       1771.8|          22.4|            17|\n",
            "|1943|        203.1|       2073.7|          10.5|             8|\n",
            "|1944|        224.6|       2239.4|           1.6|            -1|\n",
            "|1945|        228.2|       2217.8|          -0.2|         -11.6|\n",
            "|1946|        227.8|       1960.9|           9.7|          -1.1|\n",
            "|1947|        249.9|       1939.4|            10|           4.1|\n",
            "|1948|        274.8|         2020|          -0.7|          -0.6|\n",
            "|1949|        272.8|       2008.9|            10|           8.7|\n",
            "+----+-------------+-------------+--------------+--------------+\n",
            "only showing top 20 rows\n",
            "\n"
          ]
        }
      ]
    },
    {
      "cell_type": "code",
      "source": [
        "from pyspark.sql.functions import *\n",
        "mydata2 = mydata.withColumn(\"level\", when(mydata.date.isNull(),'Unknown').otherwise(mydata.date))\n",
        "mydata2.show()"
      ],
      "metadata": {
        "colab": {
          "base_uri": "https://localhost:8080/"
        },
        "id": "6_3HC3p4SHKn",
        "outputId": "e9399d71-8941-4ea5-fd68-baef74df2b29"
      },
      "execution_count": null,
      "outputs": [
        {
          "output_type": "stream",
          "name": "stdout",
          "text": [
            "+----+-------------+-------------+--------------+--------------+-------+\n",
            "|date|level-current|level-chained|change-current|change-chained|  level|\n",
            "+----+-------------+-------------+--------------+--------------+-------+\n",
            "|1930|         92.2|        966.7|           -16|          -6.4|   1930|\n",
            "|1931|         77.4|        904.8|         -23.1|         -12.9|   1931|\n",
            "|1932|         59.5|        788.2|            -4|          -1.2|   1932|\n",
            "|1933|         57.2|        778.3|          16.9|          10.8|   1933|\n",
            "|1934|         66.8|        862.2|          11.1|           8.9|   1934|\n",
            "|1935|         74.3|          939|          14.3|          12.9|   1935|\n",
            "|1936|         84.9|       1060.5|           9.6|           5.1|   1936|\n",
            "|1937|           93|       1114.6|          -6.1|          -3.3|   1937|\n",
            "|1938|         87.4|       1077.7|             7|             8|   1938|\n",
            "|1939|         93.5|       1163.6|          10.1|           8.8|   1939|\n",
            "|1940|        102.9|       1266.1|          25.7|          17.7|   1940|\n",
            "|1941|        129.4|       1490.3|          28.3|          18.9|   1941|\n",
            "|1942|          166|       1771.8|          22.4|            17|   1942|\n",
            "|null|        203.1|       2073.7|          10.5|             8|Unknown|\n",
            "|1944|        224.6|       2239.4|           1.6|            -1|   1944|\n",
            "|1945|        228.2|       2217.8|          -0.2|         -11.6|   1945|\n",
            "|1946|        227.8|       1960.9|           9.7|          -1.1|   1946|\n",
            "|1947|        249.9|       1939.4|            10|           4.1|   1947|\n",
            "|1948|        274.8|         2020|          -0.7|          -0.6|   1948|\n",
            "|1949|        272.8|       2008.9|            10|           8.7|   1949|\n",
            "+----+-------------+-------------+--------------+--------------+-------+\n",
            "only showing top 20 rows\n",
            "\n"
          ]
        }
      ]
    },
    {
      "cell_type": "code",
      "source": [
        "mydata3 = mydata2.filter(mydata2.date.isNull())\n",
        "mydata3.show()"
      ],
      "metadata": {
        "colab": {
          "base_uri": "https://localhost:8080/"
        },
        "id": "S_oMkO4GVrAu",
        "outputId": "cef54a10-fc8c-4d80-d397-a8595f58cee0"
      },
      "execution_count": null,
      "outputs": [
        {
          "output_type": "stream",
          "name": "stdout",
          "text": [
            "+----+-------------+-------------+--------------+--------------+-------+\n",
            "|date|level-current|level-chained|change-current|change-chained|  level|\n",
            "+----+-------------+-------------+--------------+--------------+-------+\n",
            "|null|        203.1|       2073.7|          10.5|             8|Unknown|\n",
            "|null|        367.7|       2456.1|             6|           4.7|Unknown|\n",
            "+----+-------------+-------------+--------------+--------------+-------+\n",
            "\n"
          ]
        }
      ]
    },
    {
      "cell_type": "code",
      "source": [
        "mydata2 = mydata2.withColumn('level',mydata2.date.cast('float'))\n",
        "mydata2.show()"
      ],
      "metadata": {
        "colab": {
          "base_uri": "https://localhost:8080/"
        },
        "id": "RG6Mb3sRV9Su",
        "outputId": "2ae494ed-c7fe-4671-8a27-9c39f0c7e3d7"
      },
      "execution_count": null,
      "outputs": [
        {
          "output_type": "stream",
          "name": "stdout",
          "text": [
            "+----+-------------+-------------+--------------+--------------+------+\n",
            "|date|level-current|level-chained|change-current|change-chained| level|\n",
            "+----+-------------+-------------+--------------+--------------+------+\n",
            "|1930|         92.2|        966.7|           -16|          -6.4|1930.0|\n",
            "|1931|         77.4|        904.8|         -23.1|         -12.9|1931.0|\n",
            "|1932|         59.5|        788.2|            -4|          -1.2|1932.0|\n",
            "|1933|         57.2|        778.3|          16.9|          10.8|1933.0|\n",
            "|1934|         66.8|        862.2|          11.1|           8.9|1934.0|\n",
            "|1935|         74.3|          939|          14.3|          12.9|1935.0|\n",
            "|1936|         84.9|       1060.5|           9.6|           5.1|1936.0|\n",
            "|1937|           93|       1114.6|          -6.1|          -3.3|1937.0|\n",
            "|1938|         87.4|       1077.7|             7|             8|1938.0|\n",
            "|1939|         93.5|       1163.6|          10.1|           8.8|1939.0|\n",
            "|1940|        102.9|       1266.1|          25.7|          17.7|1940.0|\n",
            "|1941|        129.4|       1490.3|          28.3|          18.9|1941.0|\n",
            "|1942|          166|       1771.8|          22.4|            17|1942.0|\n",
            "|null|        203.1|       2073.7|          10.5|             8|  null|\n",
            "|1944|        224.6|       2239.4|           1.6|            -1|1944.0|\n",
            "|1945|        228.2|       2217.8|          -0.2|         -11.6|1945.0|\n",
            "|1946|        227.8|       1960.9|           9.7|          -1.1|1946.0|\n",
            "|1947|        249.9|       1939.4|            10|           4.1|1947.0|\n",
            "|1948|        274.8|         2020|          -0.7|          -0.6|1948.0|\n",
            "|1949|        272.8|       2008.9|            10|           8.7|1949.0|\n",
            "+----+-------------+-------------+--------------+--------------+------+\n",
            "only showing top 20 rows\n",
            "\n"
          ]
        }
      ]
    },
    {
      "cell_type": "code",
      "source": [
        "mean = mydata2.groupBy().avg('level').take(1)[0][0]\n",
        "print(mean)"
      ],
      "metadata": {
        "colab": {
          "base_uri": "https://localhost:8080/"
        },
        "id": "LwocHUtgYVVV",
        "outputId": "fa59dc56-4a65-41b3-a782-0ba2fcfd56b4"
      },
      "execution_count": null,
      "outputs": [
        {
          "output_type": "stream",
          "name": "stdout",
          "text": [
            "1973.6\n"
          ]
        }
      ]
    },
    {
      "cell_type": "code",
      "source": [
        "from pyspark.sql.functions import lit\n",
        "mydata2 = mydata2.withColumn('Year_New', when(mydata2.level.isNull(),lit(mean)).otherwise(mydata2.level))\n",
        "mydata2.show()"
      ],
      "metadata": {
        "colab": {
          "base_uri": "https://localhost:8080/"
        },
        "id": "gj4_NfxGYYiY",
        "outputId": "185107c9-2c9f-40b1-d0db-02fc3af77c7c"
      },
      "execution_count": null,
      "outputs": [
        {
          "output_type": "stream",
          "name": "stdout",
          "text": [
            "+----+-------------+-------------+--------------+--------------+------+--------+\n",
            "|date|level-current|level-chained|change-current|change-chained| level|Year_New|\n",
            "+----+-------------+-------------+--------------+--------------+------+--------+\n",
            "|1930|         92.2|        966.7|           -16|          -6.4|1930.0|  1930.0|\n",
            "|1931|         77.4|        904.8|         -23.1|         -12.9|1931.0|  1931.0|\n",
            "|1932|         59.5|        788.2|            -4|          -1.2|1932.0|  1932.0|\n",
            "|1933|         57.2|        778.3|          16.9|          10.8|1933.0|  1933.0|\n",
            "|1934|         66.8|        862.2|          11.1|           8.9|1934.0|  1934.0|\n",
            "|1935|         74.3|          939|          14.3|          12.9|1935.0|  1935.0|\n",
            "|1936|         84.9|       1060.5|           9.6|           5.1|1936.0|  1936.0|\n",
            "|1937|           93|       1114.6|          -6.1|          -3.3|1937.0|  1937.0|\n",
            "|1938|         87.4|       1077.7|             7|             8|1938.0|  1938.0|\n",
            "|1939|         93.5|       1163.6|          10.1|           8.8|1939.0|  1939.0|\n",
            "|1940|        102.9|       1266.1|          25.7|          17.7|1940.0|  1940.0|\n",
            "|1941|        129.4|       1490.3|          28.3|          18.9|1941.0|  1941.0|\n",
            "|1942|          166|       1771.8|          22.4|            17|1942.0|  1942.0|\n",
            "|null|        203.1|       2073.7|          10.5|             8|  null|  1973.6|\n",
            "|1944|        224.6|       2239.4|           1.6|            -1|1944.0|  1944.0|\n",
            "|1945|        228.2|       2217.8|          -0.2|         -11.6|1945.0|  1945.0|\n",
            "|1946|        227.8|       1960.9|           9.7|          -1.1|1946.0|  1946.0|\n",
            "|1947|        249.9|       1939.4|            10|           4.1|1947.0|  1947.0|\n",
            "|1948|        274.8|         2020|          -0.7|          -0.6|1948.0|  1948.0|\n",
            "|1949|        272.8|       2008.9|            10|           8.7|1949.0|  1949.0|\n",
            "+----+-------------+-------------+--------------+--------------+------+--------+\n",
            "only showing top 20 rows\n",
            "\n"
          ]
        }
      ]
    }
  ]
}